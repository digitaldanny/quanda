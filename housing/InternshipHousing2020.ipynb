{
 "cells": [
  {
   "cell_type": "code",
   "execution_count": 18,
   "metadata": {},
   "outputs": [],
   "source": [
    "# common functions used in the scripts\n",
    "def details(string, value):\n",
    "    print(string + \": ${}\".format(value))"
   ]
  },
  {
   "cell_type": "code",
   "execution_count": 34,
   "metadata": {},
   "outputs": [
    {
     "name": "stdout",
     "output_type": "stream",
     "text": [
      "Raw income: $29494.4\n",
      "California Taxes: $6471.07\n",
      "Florida Taxes: $5332.59\n",
      "----------------------------------------\n",
      "California Income: $23023.33\n",
      "Florida Income: $24161.81\n"
     ]
    }
   ],
   "source": [
    "'''\n",
    "+-----+-----+-----+-----+-----+-----+-----+-----+-----+-----+-----+\n",
    "SCRIPT SUMMARY: This script calculates my income from \n",
    "June 15th - December 18th at Intel in case I work in Cali\n",
    "or in Florida.\n",
    "+-----+-----+-----+-----+-----+-----+-----+-----+-----+-----+-----+\n",
    "'''\n",
    "class config:\n",
    "    \n",
    "    hoursPerWeek = 40\n",
    "    \n",
    "    hourlyWages = 28.36\n",
    "    overtimeWages = 1.5*hourlyWages\n",
    "    weeksWorking = 26\n",
    "    taxRateCalifornia = 0.2194\n",
    "    taxRateFlorida = 0.1808\n",
    "\n",
    "def script0():\n",
    "    total = 0\n",
    "    \n",
    "    _rawIncome = 0\n",
    "    _overtimeHours = 0\n",
    "    _normalHours = config.hoursPerWeek\n",
    "    \n",
    "    # clamp hours per week to 40 and determine number of \n",
    "    # overtime hours.\n",
    "    if (_normalHours > 40):\n",
    "        _overtimeHours = _normalHours-40\n",
    "        _normalHours = 40\n",
    "        \n",
    "    # calculate normal and overtime hours\n",
    "    _rawIncome += _overtimeHours*config.overtimeWages*config.weeksWorking\n",
    "    _rawIncome += _normalHours*config.hourlyWages*config.weeksWorking\n",
    "    details(\"Raw income\", _rawIncome)\n",
    "    \n",
    "    # calculate tax deduction\n",
    "    _taxesDeductedCalifornia = _rawIncome*config.taxRateCalifornia\n",
    "    _taxesDeductedFlorida = _rawIncome*config.taxRateFlorida\n",
    "    details(\"California Taxes\", '{:.2f}'.format(_taxesDeductedCalifornia))\n",
    "    details(\"Florida Taxes\", '{:.2f}'.format(_taxesDeductedFlorida))\n",
    "    \n",
    "    # calculate income after taxes\n",
    "    print(\"-----\"*8)\n",
    "    details(\"California Income\", '{:.2f}'.format(_rawIncome - _taxesDeductedCalifornia))\n",
    "    details(\"Florida Income\", '{:.2f}'.format(_rawIncome - _taxesDeductedFlorida))\n",
    "    \n",
    "script0()"
   ]
  },
  {
   "cell_type": "code",
   "execution_count": 19,
   "metadata": {},
   "outputs": [
    {
     "name": "stdout",
     "output_type": "stream",
     "text": [
      "Gainesville Rent: $8760\n",
      "Gainesville Transportation: $180\n",
      "Folsom Rent: $3600\n",
      "Folsom Transportation: $2700\n",
      "----------------------------------------\n",
      "Total housing + transportation: $15240\n"
     ]
    }
   ],
   "source": [
    "'''\n",
    "+-----+-----+-----+-----+-----+-----+-----+-----+-----+-----+-----+\n",
    "SCRIPT SUMMARY: Transportation + Housing cost for Aug 2020 - July 2021.\n",
    "1. Sign 12 month lease in Gainesville\n",
    "2. Live in Folsom AirBNB for temporary time while still paying\n",
    "   rent in Gainesville.\n",
    "3. Additional cost for transportation in Folsom (Uber, car?)\n",
    "\n",
    "NOTE: This script does not include food / flight cost.\n",
    "+-----+-----+-----+-----+-----+-----+-----+-----+-----+-----+-----+\n",
    "'''\n",
    "class config:\n",
    "    \n",
    "    monthsInGainesville = 12\n",
    "    gainesvilleRent = 700\n",
    "    gainesvilleUtilities = 30\n",
    "    gainesvilleMonthlyTransportation = 20\n",
    "    \n",
    "    monthsInFolsom = 3\n",
    "    folsomRent = 1200\n",
    "    folsomUtilities = 0\n",
    "    folsomUberPricePerTrip = 15\n",
    "    folsomUberTripsPerDay = 2\n",
    "    folsomMonthlyTransporation = folsomUberPricePerTrip*folsomUberTripsPerDay*30\n",
    "\n",
    "def script1():\n",
    "    \n",
    "    # private parameters\n",
    "    total = 0\n",
    "    \n",
    "    # calculate rent in Gainesville for the year\n",
    "    _gainesvilleRent = config.monthsInGainesville*(config.gainesvilleRent + config.gainesvilleUtilities)\n",
    "    total += _gainesvilleRent\n",
    "    details(\"Gainesville Rent\", _gainesvilleRent)\n",
    "    \n",
    "    # calculate transportation while in Gainesville\n",
    "    _gainesvilleTransportation = (config.monthsInGainesville - config.monthsInFolsom)*config.gainesvilleMonthlyTransportation\n",
    "    total += _gainesvilleTransportation\n",
    "    details(\"Gainesville Transportation\", _gainesvilleTransportation)\n",
    "    \n",
    "    # calculate temporary rent in Folsom \n",
    "    _folsomRent = config.monthsInFolsom*(config.folsomRent + config.folsomUtilities)\n",
    "    total += _folsomRent\n",
    "    details(\"Folsom Rent\", _folsomRent)\n",
    "    \n",
    "    # calculate temporary folsom transporation\n",
    "    _folsomTransportation = config.monthsInFolsom*config.folsomMonthlyTransporation\n",
    "    total += _folsomTransportation\n",
    "    details(\"Folsom Transportation\", _folsomTransportation)\n",
    "    \n",
    "    print(\"-----\"*8)\n",
    "    print(\"Total housing + transportation: ${}\".format(total))\n",
    "    \n",
    "script1()"
   ]
  },
  {
   "cell_type": "markdown",
   "metadata": {},
   "source": [
    "## Results Discussion\n",
    "\n",
    "### Test 1\n",
    "    monthsInGainesville = 12\n",
    "    gainesvilleRent = 700\n",
    "    gainesvilleUtilities = 30\n",
    "    gainesvilleMonthlyTransportation = 20\n",
    "    \n",
    "    monthsInFolsom = 3\n",
    "    folsomRent = 1200\n",
    "    folsomUtilities = 0\n",
    "    folsomMonthlyTransporation = 200"
   ]
  },
  {
   "cell_type": "code",
   "execution_count": null,
   "metadata": {},
   "outputs": [],
   "source": []
  }
 ],
 "metadata": {
  "kernelspec": {
   "display_name": "Python 3",
   "language": "python",
   "name": "python3"
  },
  "language_info": {
   "codemirror_mode": {
    "name": "ipython",
    "version": 3
   },
   "file_extension": ".py",
   "mimetype": "text/x-python",
   "name": "python",
   "nbconvert_exporter": "python",
   "pygments_lexer": "ipython3",
   "version": "3.6.5"
  }
 },
 "nbformat": 4,
 "nbformat_minor": 2
}
